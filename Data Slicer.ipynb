{
 "cells": [
  {
   "cell_type": "markdown",
   "metadata": {},
   "source": [
    "## Load Necessary Libraries"
   ]
  },
  {
   "cell_type": "code",
   "execution_count": 5,
   "metadata": {
    "scrolled": true
   },
   "outputs": [
    {
     "name": "stdout",
     "output_type": "stream",
     "text": [
      "3.0.5\n"
     ]
    }
   ],
   "source": [
    "import matplotlib.pyplot as plt\n",
    "import numpy as np\n",
    "import pandas as pd\n",
    "import openpyxl\n",
    "print (openpyxl.__version__)\n",
    "import dask.dataframe as dd"
   ]
  },
  {
   "cell_type": "markdown",
   "metadata": {},
   "source": [
    "### 1. Suppression des lignes vides avec Panda"
   ]
  },
  {
   "cell_type": "code",
   "execution_count": 6,
   "metadata": {},
   "outputs": [
    {
     "name": "stdout",
     "output_type": "stream",
     "text": [
      "          Heure          Timer  Tambiante  Tobjet  Pt1000capteur  Pt1000cible  \\\n",
      "0      13:58:21       0.180000      24.83   23.99          26.61        23.41   \n",
      "1      13:58:25       4.230000      24.83   23.93          26.61        23.41   \n",
      "2      13:58:29       8.300000      24.87   24.11          26.81        23.61   \n",
      "4      13:58:37      16.420000      24.89   24.99          26.81        24.21   \n",
      "5      13:58:41      20.480000      24.93   25.67          26.81        24.21   \n",
      "...         ...            ...        ...     ...            ...          ...   \n",
      "64987  15:24:43  264382.386719      27.73   27.17          29.63        26.40   \n",
      "64988  15:24:47  264386.437500      27.71   27.17          29.63        26.60   \n",
      "64989  15:24:51  264390.503906      27.73   27.21          29.63        26.60   \n",
      "64990  15:24:55  264394.554688      27.71   27.21          29.63        26.60   \n",
      "64991  15:24:59  264398.621094      27.73   27.21          29.63        26.60   \n",
      "\n",
      "       PWMcapteur  PWMcible  Emissivite  Valeur du Proportionnel P  \\\n",
      "0            0.00    255.00       0.595                     129.25   \n",
      "1          129.25    255.00       0.638                     129.25   \n",
      "2          108.53    255.00       0.607                     128.25   \n",
      "4          137.58    231.58      -0.148                     127.75   \n",
      "5          107.08    231.58      -1.036                     126.75   \n",
      "...           ...       ...         ...                        ...   \n",
      "64987        0.00      0.00       0.422                    -193.25   \n",
      "64988        0.00      0.00       0.487                    -192.75   \n",
      "64989        0.00      0.00       0.461                    -193.25   \n",
      "64990        0.00      0.00       0.451                    -192.75   \n",
      "64991        0.00      0.00       0.461                    -193.25   \n",
      "\n",
      "       Valeur du Proportionnel D  \n",
      "0                     -254233.48  \n",
      "1                           0.00  \n",
      "2                         -19.72  \n",
      "4                           9.83  \n",
      "5                         -19.67  \n",
      "...                          ...  \n",
      "64987                      -9.86  \n",
      "64988                       9.87  \n",
      "64989                      -9.86  \n",
      "64990                       9.86  \n",
      "64991                      -9.86  \n",
      "\n",
      "[64975 rows x 11 columns]\n",
      "empty rows deleted and saved\n"
     ]
    }
   ],
   "source": [
    "df = pd.read_excel('C:\\\\Users\\\\micka\\\\Desktop\\\\Macro\\\\59. Mesure Alu Anodise repetabilite.xlsx')\n",
    "\n",
    "# function to remove empty rows\n",
    "\n",
    "df.dropna(subset=['Timer'], inplace=True)\n",
    "print(df)\n",
    "\n",
    "# save the file to the path\n",
    "df.to_excel(\"C:\\\\Users\\\\micka\\\\Desktop\\\\Macro\\\\1. Suppression des lignes vides.xlsx\", \n",
    "             index=False)\n",
    "\n",
    "print(\"empty rows deleted and saved\")"
   ]
  },
  {
   "cell_type": "markdown",
   "metadata": {},
   "source": [
    "### 2. Ajout des sheets"
   ]
  },
  {
   "cell_type": "code",
   "execution_count": 7,
   "metadata": {
    "scrolled": true
   },
   "outputs": [
    {
     "name": "stdout",
     "output_type": "stream",
     "text": [
      "Résultats Bruts\n",
      "Courbe Compensation\n",
      "Ci = 30°C\n",
      "Ci = 40°C\n",
      "Ci = 50°C\n",
      "Ci = 60°C\n",
      "Ci = 70°C\n",
      "Ci = 80°C\n",
      "Ci = 90°C\n",
      "Ci = 100°C\n",
      "Ci = 110°C\n",
      "Ci = 120°C\n",
      "saved\n"
     ]
    }
   ],
   "source": [
    "from openpyxl import Workbook\n",
    "wb = openpyxl.load_workbook('C:\\\\Users\\\\micka\\\\Desktop\\\\Macro\\\\1. Suppression des lignes vides.xlsx')\n",
    "\n",
    "ws1 = wb.active\n",
    "#printing the sheet names\n",
    "if 'Sheet1' in wb.sheetnames:\n",
    "    \n",
    "    ws1.title = \"Résultats Bruts\"\n",
    "    ws2 = wb.create_sheet(\"Courbe Compensation\") # insert at the end (default)\n",
    "    ws3 = wb.create_sheet(\"Ci = 30°C\") # insert at the end (default)\n",
    "    # or\n",
    "    ws4 = wb.create_sheet(\"Ci = 40°C\") # insert at first position (,1)\n",
    "    # or\n",
    "    ws5 = wb.create_sheet(\"Ci = 50°C\") # insert at the penultimate position (-1)\n",
    "    ws5 = wb.create_sheet(\"Ci = 60°C\")\n",
    "    ws5 = wb.create_sheet(\"Ci = 70°C\")\n",
    "    ws5 = wb.create_sheet(\"Ci = 80°C\")\n",
    "    ws5 = wb.create_sheet(\"Ci = 90°C\")\n",
    "    ws5 = wb.create_sheet(\"Ci = 100°C\")\n",
    "    ws5 = wb.create_sheet(\"Ci = 110°C\")\n",
    "    ws5 = wb.create_sheet(\"Ci = 120°C\")\n",
    "else :\n",
    "    print('pass pas')\n",
    "\n",
    "#if 'Feuil2' in ss.sheetnames:\n",
    "#    ss_sheet == ss['Feuil2']\n",
    "#    ss_sheet.title = 'Courbe Compensation'\n",
    "\n",
    "for sheet in wb:\n",
    "    print(sheet.title)\n",
    "\n",
    "wb.save('C:\\\\Users\\\\micka\\\\Desktop\\\\Macro\\\\2. Add Sheet.xlsx')\n",
    "print('saved')"
   ]
  },
  {
   "cell_type": "markdown",
   "metadata": {},
   "source": [
    "### 3.Tracé d'un graphe dans \"Resultats Bruts\""
   ]
  },
  {
   "cell_type": "code",
   "execution_count": 8,
   "metadata": {},
   "outputs": [
    {
     "name": "stdout",
     "output_type": "stream",
     "text": [
      "saved\n"
     ]
    }
   ],
   "source": [
    "from openpyxl import *\n",
    "from openpyxl.chart import (\n",
    "    ScatterChart,\n",
    "    Reference,\n",
    "    Series,\n",
    ")\n",
    "\n",
    "wb = openpyxl.load_workbook('C:\\\\Users\\\\micka\\\\Desktop\\\\Macro\\\\2. Add Sheet.xlsx')\n",
    "ws = wb.active\n",
    "\n",
    "\n",
    "\n",
    "chart = ScatterChart()\n",
    "chart.title = \"Série de mesure sous vide\"\n",
    "chart.style = 13\n",
    "chart.x_axis.title = 'Temps (s)'\n",
    "chart.y_axis.title = 'Température (°C)'\n",
    "\n",
    "xvalues = Reference(ws, min_col=2, min_row=2, max_row=10000)\n",
    "for i in range(3, 5):\n",
    "    values = Reference(ws, min_col=i, min_row=1, max_row=10000)\n",
    "    series = Series(values, xvalues, title_from_data=True)\n",
    "    chart.series.append(series)\n",
    "    lineProp = drawing.line.LineProperties(prstDash='dash')\n",
    "    series.graphicalProperties.line = lineProp\n",
    "\n",
    "for i in range(5, 7):\n",
    "    values = Reference(ws, min_col=i, min_row=1, max_row=10000)\n",
    "    series = Series(values, xvalues, title_from_data=True)\n",
    "    chart.series.append(series)\n",
    "\n",
    "    \n",
    "# Create marker and style for 1st series\n",
    "s1 = chart.series[0] \n",
    "s1.marker.graphicalProperties.solidFill = \"147A19\"      # Marker filling\n",
    "s1.marker.graphicalProperties.line.solidFill = \"147A19\" # Marker outline\n",
    "\n",
    "# Create marker and style for 2nd series\n",
    "s2 = chart.series[1]\n",
    "s2.graphicalProperties.line.solidFill = \"ED4D45\"   # Marker filling\n",
    "s2.marker.graphicalProperties.solidFill = \"ED4D45\" # Marker outline\n",
    "\n",
    "# Create marker and style for 3rd series\n",
    "s3 = chart.series[2] \n",
    "s3.marker.graphicalProperties.solidFill = \"72E878\"      # Marker filling\n",
    "s3.marker.graphicalProperties.line.solidFill = \"72E878\" # Marker outline\n",
    "\n",
    "# Create marker and style for 4th series\n",
    "s4 = chart.series[3]\n",
    "s4.graphicalProperties.line.solidFill = \"AF1911\"   # Marker filling\n",
    "s4.marker.graphicalProperties.solidFill = \"AF1911\" # Marker outline\n",
    "\n",
    "ws.add_chart(chart, \"G10\")\n",
    "\n",
    "wb.save(\"C:\\\\Users\\\\micka\\\\Desktop\\\\Macro\\\\3. Graph.xlsx\")\n",
    "print('saved')\n"
   ]
  },
  {
   "cell_type": "code",
   "execution_count": 9,
   "metadata": {},
   "outputs": [
    {
     "data": {
      "text/plain": [
       "'filename =\"C:\\\\Users\\\\micka\\\\Desktop\\\\Macro\\\\2. Graph.xlsx\"\\nwb1 = openpyxl.load_workbook(filename)\\nws1 = wb1.worksheets[0]\\n\\n# function to remove empty rows\\n \\ni = 1\\nfor i in range(1,100000):   \\n    if ws1.cell(row=i, column=1).value is None:\\n        ws1.delete_rows(i, 1)\\n        \\n    else:\\n        i += 1\\n\\n\\n  \\n\\n# save the file to the path\\npath = \\'C:\\\\Users\\\\micka\\\\Desktop\\\\Macro\\\\3. Suppression des lignes vides.xlsx\\'\\nwb1.save(path)\\n\\nprint(\"empty rows deleted and saved\")\\n\\n\\n\\n\\n\\n#lst = [ws1.cell(row=i,column=5).value for i in range(2,10000)]\\n#result_list = [item for item in lst if item < 40]\\n\\n#a_list = [1, 2, 3, 4]\\n#result_list = [item for item in a_list if item > 2]\\n\\n#print(result_list.index)'"
      ]
     },
     "execution_count": 9,
     "metadata": {},
     "output_type": "execute_result"
    }
   ],
   "source": [
    "'''filename =\"C:\\\\Users\\\\micka\\\\Desktop\\\\Macro\\\\2. Graph.xlsx\"\n",
    "wb1 = openpyxl.load_workbook(filename)\n",
    "ws1 = wb1.worksheets[0]\n",
    "\n",
    "# function to remove empty rows\n",
    " \n",
    "i = 1\n",
    "for i in range(1,100000):   \n",
    "    if ws1.cell(row=i, column=1).value is None:\n",
    "        ws1.delete_rows(i, 1)\n",
    "        \n",
    "    else:\n",
    "        i += 1\n",
    "\n",
    "\n",
    "  \n",
    "\n",
    "# save the file to the path\n",
    "path = 'C:\\\\Users\\\\micka\\\\Desktop\\\\Macro\\\\3. Suppression des lignes vides.xlsx'\n",
    "wb1.save(path)\n",
    "\n",
    "print(\"empty rows deleted and saved\")\n",
    "\n",
    "\n",
    "\n",
    "\n",
    "\n",
    "#lst = [ws1.cell(row=i,column=5).value for i in range(2,10000)]\n",
    "#result_list = [item for item in lst if item < 40]\n",
    "\n",
    "#a_list = [1, 2, 3, 4]\n",
    "#result_list = [item for item in a_list if item > 2]\n",
    "\n",
    "#print(result_list.index)'''\n",
    "\n"
   ]
  },
  {
   "cell_type": "markdown",
   "metadata": {},
   "source": [
    "### 4. Définition des fonctions"
   ]
  },
  {
   "cell_type": "code",
   "execution_count": 44,
   "metadata": {},
   "outputs": [
    {
     "name": "stdout",
     "output_type": "stream",
     "text": [
      "range selected\n",
      "range pasted\n"
     ]
    }
   ],
   "source": [
    "# - Copy and Paste Ranges using OpenPyXl library\n",
    " \n",
    "import openpyxl\n",
    " \n",
    "#Prepare the spreadsheets to copy from and paste too.\n",
    " \n",
    "#File to be copied\n",
    "wb = openpyxl.load_workbook('C:\\\\Users\\\\micka\\\\Desktop\\\\Macro\\\\3. Graph.xlsx')\n",
    "sheet = wb[\"Résultats Bruts\"] #Add Sheet name\n",
    " \n",
    "#File to be pasted into\n",
    "template = openpyxl.load_workbook(\"C:\\\\Users\\\\micka\\\\Desktop\\\\Macro\\\\3. Graph.xlsx\") #Add file name\n",
    "temp_sheet = template[\"Ci = 30°C\"] #Add Sheet name\n",
    " \n",
    "#Copy range of cells as a nested list\n",
    "#Takes: start cell, end cell, and sheet you want to copy from.\n",
    "def copyRange(startCol, startRow, endCol, endRow, sheet):\n",
    "    rangeSelected = []\n",
    "    #Loops through selected Rows\n",
    "    for i in range(startRow,endRow + 1,1):\n",
    "        #Appends the row to a RowSelected list\n",
    "        rowSelected = []\n",
    "        for j in range(startCol,endCol+1,1):\n",
    "            rowSelected.append(sheet.cell(row = i, column = j).value)\n",
    "        #Adds the RowSelected List and nests inside the rangeSelected\n",
    "        rangeSelected.append(rowSelected)\n",
    " \n",
    "    return rangeSelected\n",
    "print('range selected')         \n",
    " \n",
    "#Paste range\n",
    "#Paste data from copyRange into template sheet\n",
    "def pasteRange(startCol, startRow, endCol, endRow, sheetReceiving,copiedData ):\n",
    "    countRow = 0\n",
    "    for i in range(startRow,endRow+1,1):\n",
    "        countCol = 0\n",
    "        for j in range(startCol,endCol+1,1):\n",
    "            \n",
    "            sheetReceiving.cell(row = i, column = j).value = copiedData[countRow][countCol]\n",
    "            countCol += 1\n",
    "        countRow += 1\n",
    "print('range pasted')   \n",
    "\n",
    "\n",
    "\n"
   ]
  },
  {
   "cell_type": "markdown",
   "metadata": {},
   "source": [
    "### 4. Séparation des séries avec openpyxl"
   ]
  },
  {
   "cell_type": "code",
   "execution_count": 58,
   "metadata": {},
   "outputs": [
    {
     "ename": "AttributeError",
     "evalue": "Can only use .str accessor with string values!",
     "output_type": "error",
     "traceback": [
      "\u001b[1;31m---------------------------------------------------------------------------\u001b[0m",
      "\u001b[1;31mAttributeError\u001b[0m                            Traceback (most recent call last)",
      "\u001b[1;32m<ipython-input-58-d3ce55de84b4>\u001b[0m in \u001b[0;36m<module>\u001b[1;34m\u001b[0m\n\u001b[0;32m      6\u001b[0m \u001b[1;31m#Lecture de la colonne Pt1000Capteur\u001b[0m\u001b[1;33m\u001b[0m\u001b[1;33m\u001b[0m\u001b[1;33m\u001b[0m\u001b[0m\n\u001b[0;32m      7\u001b[0m \u001b[0mdf\u001b[0m \u001b[1;33m=\u001b[0m \u001b[0mpd\u001b[0m\u001b[1;33m.\u001b[0m\u001b[0mread_excel\u001b[0m\u001b[1;33m(\u001b[0m\u001b[1;34m'C:\\\\Users\\\\micka\\\\Desktop\\\\Macro\\\\3. Graph.xlsx'\u001b[0m\u001b[1;33m)\u001b[0m\u001b[1;33m\u001b[0m\u001b[1;33m\u001b[0m\u001b[0m\n\u001b[1;32m----> 8\u001b[1;33m \u001b[0mdf\u001b[0m\u001b[1;33m[\u001b[0m\u001b[1;34m'Pt1000capteur'\u001b[0m\u001b[1;33m]\u001b[0m \u001b[1;33m=\u001b[0m \u001b[0mdf\u001b[0m\u001b[1;33m[\u001b[0m\u001b[1;34m'Pt1000capteur'\u001b[0m\u001b[1;33m]\u001b[0m\u001b[1;33m.\u001b[0m\u001b[0mstr\u001b[0m\u001b[1;33m.\u001b[0m\u001b[0mreplace\u001b[0m\u001b[1;33m(\u001b[0m\u001b[1;34m','\u001b[0m\u001b[1;33m,\u001b[0m \u001b[1;34m'.'\u001b[0m\u001b[1;33m)\u001b[0m\u001b[1;33m.\u001b[0m\u001b[0mastype\u001b[0m\u001b[1;33m(\u001b[0m\u001b[0mfloat\u001b[0m\u001b[1;33m)\u001b[0m\u001b[1;33m\u001b[0m\u001b[1;33m\u001b[0m\u001b[0m\n\u001b[0m\u001b[0;32m      9\u001b[0m \u001b[1;33m\u001b[0m\u001b[0m\n\u001b[0;32m     10\u001b[0m \u001b[0mPt1000Capteur_colonne\u001b[0m \u001b[1;33m=\u001b[0m \u001b[0msheet\u001b[0m\u001b[1;33m[\u001b[0m\u001b[1;34m'E'\u001b[0m\u001b[1;33m]\u001b[0m   \u001b[1;31m#On lit Nonetypeau lieu de Int..\u001b[0m\u001b[1;33m\u001b[0m\u001b[1;33m\u001b[0m\u001b[0m\n",
      "\u001b[1;32m~\\anaconda3\\lib\\site-packages\\pandas\\core\\generic.py\u001b[0m in \u001b[0;36m__getattr__\u001b[1;34m(self, name)\u001b[0m\n\u001b[0;32m   5133\u001b[0m             \u001b[1;32mor\u001b[0m \u001b[0mname\u001b[0m \u001b[1;32min\u001b[0m \u001b[0mself\u001b[0m\u001b[1;33m.\u001b[0m\u001b[0m_accessors\u001b[0m\u001b[1;33m\u001b[0m\u001b[1;33m\u001b[0m\u001b[0m\n\u001b[0;32m   5134\u001b[0m         ):\n\u001b[1;32m-> 5135\u001b[1;33m             \u001b[1;32mreturn\u001b[0m \u001b[0mobject\u001b[0m\u001b[1;33m.\u001b[0m\u001b[0m__getattribute__\u001b[0m\u001b[1;33m(\u001b[0m\u001b[0mself\u001b[0m\u001b[1;33m,\u001b[0m \u001b[0mname\u001b[0m\u001b[1;33m)\u001b[0m\u001b[1;33m\u001b[0m\u001b[1;33m\u001b[0m\u001b[0m\n\u001b[0m\u001b[0;32m   5136\u001b[0m         \u001b[1;32melse\u001b[0m\u001b[1;33m:\u001b[0m\u001b[1;33m\u001b[0m\u001b[1;33m\u001b[0m\u001b[0m\n\u001b[0;32m   5137\u001b[0m             \u001b[1;32mif\u001b[0m \u001b[0mself\u001b[0m\u001b[1;33m.\u001b[0m\u001b[0m_info_axis\u001b[0m\u001b[1;33m.\u001b[0m\u001b[0m_can_hold_identifiers_and_holds_name\u001b[0m\u001b[1;33m(\u001b[0m\u001b[0mname\u001b[0m\u001b[1;33m)\u001b[0m\u001b[1;33m:\u001b[0m\u001b[1;33m\u001b[0m\u001b[1;33m\u001b[0m\u001b[0m\n",
      "\u001b[1;32m~\\anaconda3\\lib\\site-packages\\pandas\\core\\accessor.py\u001b[0m in \u001b[0;36m__get__\u001b[1;34m(self, obj, cls)\u001b[0m\n\u001b[0;32m    185\u001b[0m             \u001b[1;31m# we're accessing the attribute of the class, i.e., Dataset.geo\u001b[0m\u001b[1;33m\u001b[0m\u001b[1;33m\u001b[0m\u001b[1;33m\u001b[0m\u001b[0m\n\u001b[0;32m    186\u001b[0m             \u001b[1;32mreturn\u001b[0m \u001b[0mself\u001b[0m\u001b[1;33m.\u001b[0m\u001b[0m_accessor\u001b[0m\u001b[1;33m\u001b[0m\u001b[1;33m\u001b[0m\u001b[0m\n\u001b[1;32m--> 187\u001b[1;33m         \u001b[0maccessor_obj\u001b[0m \u001b[1;33m=\u001b[0m \u001b[0mself\u001b[0m\u001b[1;33m.\u001b[0m\u001b[0m_accessor\u001b[0m\u001b[1;33m(\u001b[0m\u001b[0mobj\u001b[0m\u001b[1;33m)\u001b[0m\u001b[1;33m\u001b[0m\u001b[1;33m\u001b[0m\u001b[0m\n\u001b[0m\u001b[0;32m    188\u001b[0m         \u001b[1;31m# Replace the property with the accessor object. Inspired by:\u001b[0m\u001b[1;33m\u001b[0m\u001b[1;33m\u001b[0m\u001b[1;33m\u001b[0m\u001b[0m\n\u001b[0;32m    189\u001b[0m         \u001b[1;31m# https://www.pydanny.com/cached-property.html\u001b[0m\u001b[1;33m\u001b[0m\u001b[1;33m\u001b[0m\u001b[1;33m\u001b[0m\u001b[0m\n",
      "\u001b[1;32m~\\anaconda3\\lib\\site-packages\\pandas\\core\\strings.py\u001b[0m in \u001b[0;36m__init__\u001b[1;34m(self, data)\u001b[0m\n\u001b[0;32m   2098\u001b[0m \u001b[1;33m\u001b[0m\u001b[0m\n\u001b[0;32m   2099\u001b[0m     \u001b[1;32mdef\u001b[0m \u001b[0m__init__\u001b[0m\u001b[1;33m(\u001b[0m\u001b[0mself\u001b[0m\u001b[1;33m,\u001b[0m \u001b[0mdata\u001b[0m\u001b[1;33m)\u001b[0m\u001b[1;33m:\u001b[0m\u001b[1;33m\u001b[0m\u001b[1;33m\u001b[0m\u001b[0m\n\u001b[1;32m-> 2100\u001b[1;33m         \u001b[0mself\u001b[0m\u001b[1;33m.\u001b[0m\u001b[0m_inferred_dtype\u001b[0m \u001b[1;33m=\u001b[0m \u001b[0mself\u001b[0m\u001b[1;33m.\u001b[0m\u001b[0m_validate\u001b[0m\u001b[1;33m(\u001b[0m\u001b[0mdata\u001b[0m\u001b[1;33m)\u001b[0m\u001b[1;33m\u001b[0m\u001b[1;33m\u001b[0m\u001b[0m\n\u001b[0m\u001b[0;32m   2101\u001b[0m         \u001b[0mself\u001b[0m\u001b[1;33m.\u001b[0m\u001b[0m_is_categorical\u001b[0m \u001b[1;33m=\u001b[0m \u001b[0mis_categorical_dtype\u001b[0m\u001b[1;33m(\u001b[0m\u001b[0mdata\u001b[0m\u001b[1;33m.\u001b[0m\u001b[0mdtype\u001b[0m\u001b[1;33m)\u001b[0m\u001b[1;33m\u001b[0m\u001b[1;33m\u001b[0m\u001b[0m\n\u001b[0;32m   2102\u001b[0m         \u001b[0mself\u001b[0m\u001b[1;33m.\u001b[0m\u001b[0m_is_string\u001b[0m \u001b[1;33m=\u001b[0m \u001b[0mdata\u001b[0m\u001b[1;33m.\u001b[0m\u001b[0mdtype\u001b[0m\u001b[1;33m.\u001b[0m\u001b[0mname\u001b[0m \u001b[1;33m==\u001b[0m \u001b[1;34m\"string\"\u001b[0m\u001b[1;33m\u001b[0m\u001b[1;33m\u001b[0m\u001b[0m\n",
      "\u001b[1;32m~\\anaconda3\\lib\\site-packages\\pandas\\core\\strings.py\u001b[0m in \u001b[0;36m_validate\u001b[1;34m(data)\u001b[0m\n\u001b[0;32m   2155\u001b[0m \u001b[1;33m\u001b[0m\u001b[0m\n\u001b[0;32m   2156\u001b[0m         \u001b[1;32mif\u001b[0m \u001b[0minferred_dtype\u001b[0m \u001b[1;32mnot\u001b[0m \u001b[1;32min\u001b[0m \u001b[0mallowed_types\u001b[0m\u001b[1;33m:\u001b[0m\u001b[1;33m\u001b[0m\u001b[1;33m\u001b[0m\u001b[0m\n\u001b[1;32m-> 2157\u001b[1;33m             \u001b[1;32mraise\u001b[0m \u001b[0mAttributeError\u001b[0m\u001b[1;33m(\u001b[0m\u001b[1;34m\"Can only use .str accessor with string values!\"\u001b[0m\u001b[1;33m)\u001b[0m\u001b[1;33m\u001b[0m\u001b[1;33m\u001b[0m\u001b[0m\n\u001b[0m\u001b[0;32m   2158\u001b[0m         \u001b[1;32mreturn\u001b[0m \u001b[0minferred_dtype\u001b[0m\u001b[1;33m\u001b[0m\u001b[1;33m\u001b[0m\u001b[0m\n\u001b[0;32m   2159\u001b[0m \u001b[1;33m\u001b[0m\u001b[0m\n",
      "\u001b[1;31mAttributeError\u001b[0m: Can only use .str accessor with string values!"
     ]
    }
   ],
   "source": [
    "#Initialisation des variables\n",
    "cpt = 0\n",
    "etat_refroidissement = 0\n",
    "\n",
    "\n",
    "#Lecture de la colonne Pt1000Capteur\n",
    "df = pd.read_excel('C:\\\\Users\\\\micka\\\\Desktop\\\\Macro\\\\3. Graph.xlsx')\n",
    "df['Pt1000capteur'] = df['Pt1000capteur'].str.replace(',', '.').astype(float)\n",
    "\n",
    "Pt1000Capteur_colonne = sheet['E']   #On lit Nonetypeau lieu de Int..\n",
    "\n",
    "for x in range(len(Pt1000Capteur_colonne)): \n",
    "    print(Pt1000Capteur_colonne[x].value) \n",
    "    print(type(Pt1000Capteur_colonne[x].value))\n",
    "    print(Replace(Pt1000Capteur_colonne[x].value))\n",
    "    \n",
    "    #float(Pt1000Capteur_colonne[x].value)\n",
    "    #print(type(Pt1000Capteur_colonne[x].value))\n",
    "    \n",
    "    #if Pt1000Capteur_colonne[x].value > 120 :   #Donc ici impossible de comparer les deux\n",
    "     #   etat_refroidissement = 1\n",
    "      #  print(etat_refroidissement)\n",
    "\n",
    "#def createData():\n",
    "print(\"Processing...\")\n",
    "selectedRange = copyRange(1,1,11,100000,sheet) #Change the 4 number values\n",
    "pastingRange = pasteRange(1,1,11,100000,temp_sheet,selectedRange) #Change the 4 number values\n",
    "#You can save the template as another file to create a new file here too.s\n",
    "template.save(\"C:\\\\Users\\\\micka\\\\Desktop\\\\Macro\\\\4. Separation des series.xlsx\")  \n",
    "print(\"Range copied and pasted + saved\")"
   ]
  },
  {
   "cell_type": "markdown",
   "metadata": {},
   "source": [
    "### Séparation des séries avec Pandas"
   ]
  },
  {
   "cell_type": "code",
   "execution_count": 11,
   "metadata": {},
   "outputs": [
    {
     "name": "stdout",
     "output_type": "stream",
     "text": [
      "Résultats Bruts\n",
      "      Heure  Timer  Tambiante  Tobjet  Pt1000capteur  Pt1000cible  PWMcapteur  \\\n",
      "0  13:58:21   0.18      24.83   23.99          26.61        23.41        0.00   \n",
      "1  13:58:25   4.23      24.83   23.93          26.61        23.41      129.25   \n",
      "2  13:58:29   8.30      24.87   24.11          26.81        23.61      108.53   \n",
      "3  13:58:37  16.42      24.89   24.99          26.81        24.21      137.58   \n",
      "4  13:58:41  20.48      24.93   25.67          26.81        24.21      107.08   \n",
      "\n",
      "   PWMcible  Emissivite  Valeur du Proportionnel P  Valeur du Proportionnel D  \n",
      "0    255.00       0.595                     129.25                 -254233.48  \n",
      "1    255.00       0.638                     129.25                       0.00  \n",
      "2    255.00       0.607                     128.25                     -19.72  \n",
      "3    231.58      -0.148                     127.75                       9.83  \n",
      "4    231.58      -1.036                     126.75                     -19.67  \n",
      "Courbe Compensation\n",
      "Empty DataFrame\n",
      "Columns: []\n",
      "Index: []\n",
      "Ci = 30°C\n",
      "      Heure  Timer  Tambiante  Tobjet  Pt1000capteur  Pt1000cible  PWMcapteur  \\\n",
      "0  13:58:21   0.18      24.83   23.99          26.61        23.41        0.00   \n",
      "1  13:58:25   4.23      24.83   23.93          26.61        23.41      129.25   \n",
      "2  13:58:29   8.30      24.87   24.11          26.81        23.61      108.53   \n",
      "3  13:58:37  16.42      24.89   24.99          26.81        24.21      137.58   \n",
      "4  13:58:41  20.48      24.93   25.67          26.81        24.21      107.08   \n",
      "\n",
      "   PWMcible  Emissivite  Valeur du Proportionnel P  Valeur du Proportionnel D  \n",
      "0    255.00       0.595                     129.25                 -254233.48  \n",
      "1    255.00       0.638                     129.25                       0.00  \n",
      "2    255.00       0.607                     128.25                     -19.72  \n",
      "3    231.58      -0.148                     127.75                       9.83  \n",
      "4    231.58      -1.036                     126.75                     -19.67  \n",
      "Ci = 40°C\n",
      "Empty DataFrame\n",
      "Columns: []\n",
      "Index: []\n",
      "Ci = 50°C\n",
      "Empty DataFrame\n",
      "Columns: []\n",
      "Index: []\n",
      "Ci = 60°C\n",
      "Empty DataFrame\n",
      "Columns: []\n",
      "Index: []\n",
      "Ci = 70°C\n",
      "Empty DataFrame\n",
      "Columns: []\n",
      "Index: []\n",
      "Ci = 80°C\n",
      "Empty DataFrame\n",
      "Columns: []\n",
      "Index: []\n",
      "Ci = 90°C\n",
      "Empty DataFrame\n",
      "Columns: []\n",
      "Index: []\n",
      "Ci = 100°C\n",
      "Empty DataFrame\n",
      "Columns: []\n",
      "Index: []\n",
      "Ci = 110°C\n",
      "Empty DataFrame\n",
      "Columns: []\n",
      "Index: []\n",
      "Ci = 120°C\n",
      "Empty DataFrame\n",
      "Columns: []\n",
      "Index: []\n"
     ]
    }
   ],
   "source": [
    "'''import pandas as pd\n",
    "\n",
    "spreadsheet_file = pd.ExcelFile('C:\\\\Users\\\\micka\\\\Desktop\\\\Macro\\\\4. Separation des series.xlsx')\n",
    "worksheets = spreadsheet_file.sheet_names\n",
    "#appended_data = []\n",
    "\n",
    "for sheet_name in worksheets:\n",
    "    print(sheet_name)\n",
    "    df = pd.read_excel(spreadsheet_file, sheet_name)\n",
    "\n",
    "\n",
    "    #df.columns = ['Heure', 'Timer', 'Tambiante', 'Tobjet', 'Pt1000capteur', 'Pt1000cible', 'PWMcapteur', 'PWMcible', 'Emissivite', 'Valeur du Proportionnel P', 'Valeur du proportionnel D']\n",
    "    \n",
    "    print(df.head(5))'''"
   ]
  }
 ],
 "metadata": {
  "kernelspec": {
   "display_name": "Python 3 (ipykernel)",
   "language": "python",
   "name": "python3"
  },
  "language_info": {
   "codemirror_mode": {
    "name": "ipython",
    "version": 3
   },
   "file_extension": ".py",
   "mimetype": "text/x-python",
   "name": "python",
   "nbconvert_exporter": "python",
   "pygments_lexer": "ipython3",
   "version": "3.8.5"
  }
 },
 "nbformat": 4,
 "nbformat_minor": 2
}
